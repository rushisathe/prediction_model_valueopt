{
 "cells": [
  {
   "cell_type": "code",
   "execution_count": 1,
   "id": "925c7529",
   "metadata": {},
   "outputs": [
    {
     "name": "stderr",
     "output_type": "stream",
     "text": [
      "2024-05-26 16:48:10.997190: I tensorflow/core/platform/cpu_feature_guard.cc:210] This TensorFlow binary is optimized to use available CPU instructions in performance-critical operations.\n",
      "To enable the following instructions: AVX2 FMA, in other operations, rebuild TensorFlow with the appropriate compiler flags.\n"
     ]
    },
    {
     "name": "stdout",
     "output_type": "stream",
     "text": [
      "Enter the stock symbol: TCS.NS\n"
     ]
    },
    {
     "name": "stderr",
     "output_type": "stream",
     "text": [
      "[*********************100%%**********************]  1 of 1 completed\n",
      "/opt/anaconda3/lib/python3.11/site-packages/keras/src/layers/rnn/rnn.py:204: UserWarning: Do not pass an `input_shape`/`input_dim` argument to a layer. When using Sequential models, prefer using an `Input(shape)` object as the first layer in the model instead.\n",
      "  super().__init__(**kwargs)\n"
     ]
    },
    {
     "name": "stdout",
     "output_type": "stream",
     "text": [
      "\u001b[1m3490/3490\u001b[0m \u001b[32m━━━━━━━━━━━━━━━━━━━━\u001b[0m\u001b[37m\u001b[0m \u001b[1m125s\u001b[0m 35ms/step - loss: 0.0033\n",
      "\u001b[1m1/1\u001b[0m \u001b[32m━━━━━━━━━━━━━━━━━━━━\u001b[0m\u001b[37m\u001b[0m \u001b[1m0s\u001b[0m 346ms/step\n",
      "Predicted Stock Price for the next day: 3774.016782946441\n"
     ]
    }
   ],
   "source": [
    "import numpy as np\n",
    "import pandas as pd\n",
    "import yfinance as yf\n",
    "from sklearn.preprocessing import MinMaxScaler\n",
    "from tensorflow.keras.models import Sequential\n",
    "from tensorflow.keras.layers import Dense, LSTM\n",
    "from tensorflow.keras.optimizers import Adam\n",
    "from datetime import datetime\n",
    "\n",
    "def fetch_data(stock_symbol):\n",
    "    # Fetch data from Yahoo Finance\n",
    "    data = yf.download(stock_symbol, start=\"2010-01-01\", end=datetime.now().strftime('%Y-%m-%d'))\n",
    "    return data\n",
    "\n",
    "def preprocess_data(data):\n",
    "    # Using only 'Close' price for simplicity\n",
    "    data = data[['Close']]\n",
    "    \n",
    "    # Scaling the data\n",
    "    scaler = MinMaxScaler(feature_range=(0, 1))\n",
    "    scaled_data = scaler.fit_transform(data)\n",
    "\n",
    "    # Create sequences\n",
    "    sequence_length = 60\n",
    "    x_train = []\n",
    "    y_train = []\n",
    "\n",
    "    for i in range(sequence_length, len(scaled_data)):\n",
    "        x_train.append(scaled_data[i-sequence_length:i])\n",
    "        y_train.append(scaled_data[i, 0])  # 'Close' price is the target\n",
    "\n",
    "    x_train, y_train = np.array(x_train), np.array(y_train)\n",
    "\n",
    "    return x_train, y_train, scaler, data, scaled_data\n",
    "\n",
    "def build_model(input_shape):\n",
    "    model = Sequential()\n",
    "    model.add(LSTM(units=128, return_sequences=True, input_shape=input_shape))\n",
    "    model.add(LSTM(units=64, return_sequences=False))\n",
    "    model.add(Dense(units=25))\n",
    "    model.add(Dense(units=1))\n",
    "\n",
    "    model.compile(optimizer=Adam(learning_rate=0.001), loss='mean_squared_error')\n",
    "    return model\n",
    "\n",
    "def main(stock_symbol):\n",
    "    data = fetch_data(stock_symbol)\n",
    "    x_train, y_train, scaler, original_data, scaled_data = preprocess_data(data)\n",
    "    model = build_model((x_train.shape[1], x_train.shape[2]))\n",
    "\n",
    "    # Train the Model\n",
    "    model.fit(x_train, y_train, batch_size=1, epochs=1)\n",
    "\n",
    "    # Prepare the test data\n",
    "    last_60_days = scaled_data[-60:]\n",
    "    x_test = np.array([last_60_days])\n",
    "    \n",
    "    # Reshape the data to the format [samples, time steps, features]\n",
    "    x_test = np.reshape(x_test, (x_test.shape[0], x_test.shape[1], 1))\n",
    "\n",
    "    # Make predictions\n",
    "    predicted_price_scaled = model.predict(x_test)\n",
    "    predicted_price = scaler.inverse_transform(np.concatenate([np.zeros((predicted_price_scaled.shape[0], 1)), predicted_price_scaled], axis=1))[:, 1]\n",
    "\n",
    "    # Output the predicted price\n",
    "    print(f\"Predicted Stock Price for the next day: {predicted_price[0]}\")\n",
    "\n",
    "if __name__ == \"__main__\":\n",
    "    stock_symbol = input(\"Enter the stock symbol: \")\n",
    "    main(stock_symbol)\n"
   ]
  },
  {
   "cell_type": "code",
   "execution_count": null,
   "id": "1e5ab87a",
   "metadata": {},
   "outputs": [],
   "source": []
  }
 ],
 "metadata": {
  "kernelspec": {
   "display_name": "Python 3 (ipykernel)",
   "language": "python",
   "name": "python3"
  },
  "language_info": {
   "codemirror_mode": {
    "name": "ipython",
    "version": 3
   },
   "file_extension": ".py",
   "mimetype": "text/x-python",
   "name": "python",
   "nbconvert_exporter": "python",
   "pygments_lexer": "ipython3",
   "version": "3.11.7"
  }
 },
 "nbformat": 4,
 "nbformat_minor": 5
}
